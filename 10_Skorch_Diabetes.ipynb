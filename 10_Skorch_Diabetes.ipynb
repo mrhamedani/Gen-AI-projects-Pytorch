{
  "nbformat": 4,
  "nbformat_minor": 0,
  "metadata": {
    "colab": {
      "provenance": [],
      "authorship_tag": "ABX9TyNez6mVjchIiKP72C0fZiAt",
      "include_colab_link": true
    },
    "kernelspec": {
      "name": "python3",
      "display_name": "Python 3"
    },
    "language_info": {
      "name": "python"
    }
  },
  "cells": [
    {
      "cell_type": "markdown",
      "metadata": {
        "id": "view-in-github",
        "colab_type": "text"
      },
      "source": [
        "<a href=\"https://colab.research.google.com/github/mrhamedani/Gen-AI-projects-Pytorch/blob/main/10_Skorch_Diabetes.ipynb\" target=\"_parent\"><img src=\"https://colab.research.google.com/assets/colab-badge.svg\" alt=\"Open In Colab\"/></a>"
      ]
    },
    {
      "cell_type": "code",
      "source": [
        "! pip install skorch"
      ],
      "metadata": {
        "id": "OTc4heP5C_WK"
      },
      "execution_count": null,
      "outputs": []
    },
    {
      "cell_type": "code",
      "execution_count": 18,
      "metadata": {
        "id": "8gGqhNLOLorQ"
      },
      "outputs": [],
      "source": [
        "import numpy as np\n",
        "import random\n",
        "import torch\n",
        "import torch.nn as nn\n",
        "import torch.optim as optim\n",
        "from skorch import NeuralNet\n",
        "from skorch import NeuralNetClassifier"
      ]
    },
    {
      "cell_type": "code",
      "source": [
        "!wget https://raw.githubusercontent.com/jbrownlee/Datasets/master/pima-indians-diabetes.data.csv"
      ],
      "metadata": {
        "id": "tQDEFcZTC4V4"
      },
      "execution_count": null,
      "outputs": []
    },
    {
      "cell_type": "code",
      "source": [
        "dataset= np.loadtxt('./pima-indians-diabetes.data.csv', delimiter=',')"
      ],
      "metadata": {
        "id": "e9s3YcAEFqLS"
      },
      "execution_count": 10,
      "outputs": []
    },
    {
      "cell_type": "code",
      "source": [
        "x= dataset[:,0:8]   # x: contains the first 8 features (columns 0 to 7).\n",
        "y= dataset[:,8]     # y: contains the last feature (column 8). label\n",
        "\n",
        "x_train= torch.tensor(x).float()\n",
        "y_train= torch.tensor(y).float().reshape(-1,1)\n",
        "\n",
        "# pytorch classifier\n",
        "\n",
        "class PimaClassifier(nn.Module):\n",
        "  def __init__(self):\n",
        "    super().__init__()\n",
        "    self.layer= nn.Linear(8,12)\n",
        "    self.act= nn.Relu()\n",
        "    self.output= nn.Linear(12,1)\n",
        "    self.prob= nn.Sigmoid()\n",
        "\n",
        "  def forward(self, x):\n",
        "    x= self.layer(x)\n",
        "    x= self.act(x)\n",
        "    x= self.output(x)\n",
        "    x= self.prob(x)\n",
        "    return x\n"
      ],
      "metadata": {
        "id": "Sj82cf5UGC4c"
      },
      "execution_count": 15,
      "outputs": []
    },
    {
      "cell_type": "code",
      "source": [
        "model = NeuralNetClassifier(PimaClassifier,criterion=nn.BCELoss, optimizer=optim.Adam, verbose=False )\n"
      ],
      "metadata": {
        "id": "U3ev4M1EGnk_"
      },
      "execution_count": 19,
      "outputs": []
    },
    {
      "cell_type": "code",
      "source": [],
      "metadata": {
        "id": "WDb8fkstJNFp"
      },
      "execution_count": null,
      "outputs": []
    }
  ]
}