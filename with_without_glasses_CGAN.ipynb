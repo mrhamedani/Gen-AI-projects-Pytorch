{
  "nbformat": 4,
  "nbformat_minor": 0,
  "metadata": {
    "colab": {
      "provenance": [],
      "authorship_tag": "ABX9TyMM4kYufKdjBx9KpnFespVu",
      "include_colab_link": true
    },
    "kernelspec": {
      "name": "python3",
      "display_name": "Python 3"
    },
    "language_info": {
      "name": "python"
    }
  },
  "cells": [
    {
      "cell_type": "markdown",
      "metadata": {
        "id": "view-in-github",
        "colab_type": "text"
      },
      "source": [
        "<a href=\"https://colab.research.google.com/github/mrhamedani/Gen-AI-projects-Pytorch/blob/main/with_without_glasses_CGAN.ipynb\" target=\"_parent\"><img src=\"https://colab.research.google.com/assets/colab-badge.svg\" alt=\"Open In Colab\"/></a>"
      ]
    },
    {
      "cell_type": "markdown",
      "source": [
        "## Download the Dataset\n",
        "The eyeglasses dataset we use is from Kaggle. Log into Kaggle and go to the link https://www.kaggle.com/datasets/jeffheaton/glasses-or-no-glasses/data to download the image folder and the two CSV files on the right: train.csv and test.csv. There are 5000 images in the folder /faces-spring-2020/. Once you have the data, place both the image folder and the two CSV files inside /Desktop/dgai/files/ on your computer."
      ],
      "metadata": {
        "id": "WoIGKz43n2B7"
      }
    },
    {
      "cell_type": "code",
      "source": [],
      "metadata": {
        "id": "6UnsNb-Un1Fj"
      },
      "execution_count": null,
      "outputs": []
    },
    {
      "cell_type": "code",
      "execution_count": null,
      "metadata": {
        "id": "sJ3OGlD5nv-2"
      },
      "outputs": [],
      "source": []
    }
  ]
}